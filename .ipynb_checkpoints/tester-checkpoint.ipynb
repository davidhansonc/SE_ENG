{
 "cells": [
  {
   "cell_type": "code",
   "execution_count": 12,
   "id": "8c41b636",
   "metadata": {},
   "outputs": [],
   "source": [
    "# Import Python Tools:\n",
    "from IPython.display import display, Math, Markdown, Latex\n",
    "import numpy as np\n",
    "import pandas as pd\n",
    "\n",
    "import os, sys\n",
    "\n",
    "p1 = os.path.abspath('.')\n",
    "sys.path.insert(1, p1)\n",
    "p2 = os.path.abspath('C:/Users/dhanson/Desktop/Resources/python_resources/')\n",
    "sys.path.insert(1, p2)\n",
    "\n",
    "from indeterminatebeam import Beam, Support\n",
    "\n",
    "# import loads (all load types imported for reference)\n",
    "from indeterminatebeam import (\n",
    "    PointTorque,\n",
    "    PointLoad,\n",
    "    PointLoadV,\n",
    "    PointLoadH,\n",
    "    UDL,\n",
    "    UDLV,\n",
    "    UDLH,\n",
    "    TrapezoidalLoad,\n",
    "    TrapezoidalLoadV,\n",
    "    TrapezoidalLoadH,\n",
    "    DistributedLoad,\n",
    "    DistributedLoadV,\n",
    "    DistributedLoadH\n",
    ")"
   ]
  },
  {
   "cell_type": "markdown",
   "id": "7cd80fa1",
   "metadata": {},
   "source": [
    "# Wind Analysis"
   ]
  },
  {
   "cell_type": "code",
   "execution_count": 2,
   "id": "f58fd2d3",
   "metadata": {},
   "outputs": [
    {
     "data": {
      "text/html": [
       "<div>\n",
       "<style scoped>\n",
       "    .dataframe tbody tr th:only-of-type {\n",
       "        vertical-align: middle;\n",
       "    }\n",
       "\n",
       "    .dataframe tbody tr th {\n",
       "        vertical-align: top;\n",
       "    }\n",
       "\n",
       "    .dataframe thead th {\n",
       "        text-align: right;\n",
       "    }\n",
       "</style>\n",
       "<table border=\"1\" class=\"dataframe\">\n",
       "  <thead>\n",
       "    <tr style=\"text-align: right;\">\n",
       "      <th></th>\n",
       "      <th>#</th>\n",
       "      <th>Surface</th>\n",
       "      <th>z (ft)</th>\n",
       "      <th>q (psf)</th>\n",
       "      <th>G</th>\n",
       "      <th>Cp</th>\n",
       "      <th>GCpi</th>\n",
       "      <th>Ext Pres (psf)</th>\n",
       "      <th>Net w/ +GCpi (psf)</th>\n",
       "      <th>Net w/ -GCpi (psf)</th>\n",
       "    </tr>\n",
       "  </thead>\n",
       "  <tbody>\n",
       "    <tr>\n",
       "      <th>0</th>\n",
       "      <td>1</td>\n",
       "      <td>Windward Wall</td>\n",
       "      <td>12</td>\n",
       "      <td>17.9</td>\n",
       "      <td>0.888</td>\n",
       "      <td>0.800</td>\n",
       "      <td>0.18</td>\n",
       "      <td>12.70</td>\n",
       "      <td>9.48</td>\n",
       "      <td>15.9</td>\n",
       "    </tr>\n",
       "    <tr>\n",
       "      <th>1</th>\n",
       "      <td>-</td>\n",
       "      <td>Parapet</td>\n",
       "      <td>16</td>\n",
       "      <td>18.1</td>\n",
       "      <td>-</td>\n",
       "      <td>1.500</td>\n",
       "      <td>-</td>\n",
       "      <td>27.20</td>\n",
       "      <td>-</td>\n",
       "      <td>-</td>\n",
       "    </tr>\n",
       "    <tr>\n",
       "      <th>3</th>\n",
       "      <td>2</td>\n",
       "      <td>Side Wall</td>\n",
       "      <td>12</td>\n",
       "      <td>17.9</td>\n",
       "      <td>0.888</td>\n",
       "      <td>-0.700</td>\n",
       "      <td>0.18</td>\n",
       "      <td>-11.10</td>\n",
       "      <td>-14.3</td>\n",
       "      <td>-7.89</td>\n",
       "    </tr>\n",
       "    <tr>\n",
       "      <th>5</th>\n",
       "      <td>3</td>\n",
       "      <td>Leeward Wall</td>\n",
       "      <td>12</td>\n",
       "      <td>17.9</td>\n",
       "      <td>0.888</td>\n",
       "      <td>-0.500</td>\n",
       "      <td>0.18</td>\n",
       "      <td>-7.94</td>\n",
       "      <td>-11.2</td>\n",
       "      <td>-4.72</td>\n",
       "    </tr>\n",
       "    <tr>\n",
       "      <th>6</th>\n",
       "      <td>-</td>\n",
       "      <td>Parapet</td>\n",
       "      <td>16</td>\n",
       "      <td>18.1</td>\n",
       "      <td>-</td>\n",
       "      <td>-1.000</td>\n",
       "      <td>-</td>\n",
       "      <td>-18.10</td>\n",
       "      <td>-</td>\n",
       "      <td>-</td>\n",
       "    </tr>\n",
       "    <tr>\n",
       "      <th>8</th>\n",
       "      <td>4</td>\n",
       "      <td>Side Wall</td>\n",
       "      <td>12</td>\n",
       "      <td>17.9</td>\n",
       "      <td>0.888</td>\n",
       "      <td>-0.700</td>\n",
       "      <td>0.18</td>\n",
       "      <td>-11.10</td>\n",
       "      <td>-14.3</td>\n",
       "      <td>-7.89</td>\n",
       "    </tr>\n",
       "    <tr>\n",
       "      <th>10</th>\n",
       "      <td>A</td>\n",
       "      <td>Roof</td>\n",
       "      <td>0.00 - 6.00*</td>\n",
       "      <td>17.9</td>\n",
       "      <td>0.888</td>\n",
       "      <td>-1.080</td>\n",
       "      <td>0.18</td>\n",
       "      <td>-17.20</td>\n",
       "      <td>-20.4</td>\n",
       "      <td>-14.0</td>\n",
       "    </tr>\n",
       "    <tr>\n",
       "      <th>11</th>\n",
       "      <td>-</td>\n",
       "      <td>-</td>\n",
       "      <td>6.00 - 12.0*</td>\n",
       "      <td>17.9</td>\n",
       "      <td>-</td>\n",
       "      <td>-0.763</td>\n",
       "      <td>-</td>\n",
       "      <td>-12.10</td>\n",
       "      <td>-15.3</td>\n",
       "      <td>-8.9</td>\n",
       "    </tr>\n",
       "    <tr>\n",
       "      <th>12</th>\n",
       "      <td>-</td>\n",
       "      <td>-</td>\n",
       "      <td>12.0 - 14.2*</td>\n",
       "      <td>17.9</td>\n",
       "      <td>-</td>\n",
       "      <td>-0.637</td>\n",
       "      <td>-</td>\n",
       "      <td>-10.10</td>\n",
       "      <td>-13.3</td>\n",
       "      <td>-6.89</td>\n",
       "    </tr>\n",
       "    <tr>\n",
       "      <th>13</th>\n",
       "      <td>-</td>\n",
       "      <td>-</td>\n",
       "      <td>0.00 - 14.2*</td>\n",
       "      <td>17.9</td>\n",
       "      <td>-</td>\n",
       "      <td>-0.180</td>\n",
       "      <td>-</td>\n",
       "      <td>-2.86</td>\n",
       "      <td>-6.07</td>\n",
       "      <td>0.359</td>\n",
       "    </tr>\n",
       "  </tbody>\n",
       "</table>\n",
       "</div>"
      ],
      "text/plain": [
       "    #        Surface        z (ft)  q (psf)      G     Cp  GCpi  \\\n",
       "0   1  Windward Wall            12     17.9  0.888  0.800  0.18   \n",
       "1   -        Parapet            16     18.1      -  1.500     -   \n",
       "3   2      Side Wall            12     17.9  0.888 -0.700  0.18   \n",
       "5   3   Leeward Wall            12     17.9  0.888 -0.500  0.18   \n",
       "6   -        Parapet            16     18.1      - -1.000     -   \n",
       "8   4      Side Wall            12     17.9  0.888 -0.700  0.18   \n",
       "10  A           Roof  0.00 - 6.00*     17.9  0.888 -1.080  0.18   \n",
       "11  -              -  6.00 - 12.0*     17.9      - -0.763     -   \n",
       "12  -              -  12.0 - 14.2*     17.9      - -0.637     -   \n",
       "13  -              -  0.00 - 14.2*     17.9      - -0.180     -   \n",
       "\n",
       "    Ext Pres (psf) Net w/ +GCpi (psf) Net w/ -GCpi (psf)  \n",
       "0            12.70               9.48               15.9  \n",
       "1            27.20                  -                  -  \n",
       "3           -11.10              -14.3              -7.89  \n",
       "5            -7.94              -11.2              -4.72  \n",
       "6           -18.10                  -                  -  \n",
       "8           -11.10              -14.3              -7.89  \n",
       "10          -17.20              -20.4              -14.0  \n",
       "11          -12.10              -15.3               -8.9  \n",
       "12          -10.10              -13.3              -6.89  \n",
       "13           -2.86              -6.07              0.359  "
      ]
     },
     "execution_count": 2,
     "metadata": {},
     "output_type": "execute_result"
    }
   ],
   "source": [
    "import WLS_analysis.diaphragm_demands.one_story_parapet as dia\n",
    "\n",
    "wls_csv = pd.read_csv(\"./WLS_analysis/wls_test_file.csv\")\n",
    "wls_data = dia.clean_data(wls_csv)\n",
    "wls_data"
   ]
  },
  {
   "cell_type": "code",
   "execution_count": 3,
   "id": "59002ce6",
   "metadata": {},
   "outputs": [
    {
     "data": {
      "text/plain": [
       "{'WWP': 9.48, 'LWP': -11.2, 'WPP': 27.2, 'LPP': -18.1, 'RP': -20.4}"
      ]
     },
     "execution_count": 3,
     "metadata": {},
     "output_type": "execute_result"
    }
   ],
   "source": [
    "wind_pressures = dia.get_pressures(wls_data)\n",
    "wind_pressures"
   ]
  },
  {
   "cell_type": "code",
   "execution_count": 4,
   "id": "83cc7f6c",
   "metadata": {},
   "outputs": [
    {
     "data": {
      "text/plain": [
       "{'eave height': 12, 'parapet height': 4, 'roof length': 15.0, 'roof slope': 4}"
      ]
     },
     "execution_count": 4,
     "metadata": {},
     "output_type": "execute_result"
    }
   ],
   "source": [
    "geometry = dia.get_geometry(wls_data, 4, 15.0)\n",
    "geometry"
   ]
  },
  {
   "cell_type": "code",
   "execution_count": 5,
   "id": "011def03",
   "metadata": {},
   "outputs": [],
   "source": [
    "diaphragm_load = dia.diaphragm_calc(wind_pressures, geometry)"
   ]
  },
  {
   "cell_type": "code",
   "execution_count": 6,
   "id": "75a836df",
   "metadata": {},
   "outputs": [
    {
     "data": {
      "text/plain": [
       "402.0456964011524"
      ]
     },
     "execution_count": 6,
     "metadata": {},
     "output_type": "execute_result"
    }
   ],
   "source": [
    "diaphragm_load"
   ]
  },
  {
   "cell_type": "markdown",
   "id": "68e0a9a2",
   "metadata": {},
   "source": [
    "# Shear Wall Foundations"
   ]
  },
  {
   "cell_type": "code",
   "execution_count": 7,
   "id": "2bdd6c21",
   "metadata": {},
   "outputs": [],
   "source": [
    "import shear_wall_analysis.concrete_foundation as foot\n",
    "\n",
    "SWF1 = foot.shear_wall_footing()"
   ]
  },
  {
   "cell_type": "code",
   "execution_count": 27,
   "id": "078aaa85",
   "metadata": {},
   "outputs": [
    {
     "name": "stdout",
     "output_type": "stream",
     "text": [
      "--------------------------------\n",
      "        <Beam>\n",
      "        length = 0\n",
      "        loads = 0\n",
      "12.0\n",
      "3.0\n",
      "3.0\n"
     ]
    }
   ],
   "source": [
    "print(SWF1.beam)\n",
    "print(SWF1.L)\n",
    "print(SWF1.L_1)\n",
    "SWF1.L_1 = 3.0\n",
    "print(SWF1.L_1)"
   ]
  },
  {
   "cell_type": "code",
   "execution_count": 28,
   "id": "f5724f45",
   "metadata": {},
   "outputs": [
    {
     "name": "stdout",
     "output_type": "stream",
     "text": [
      "5\n"
     ]
    }
   ],
   "source": [
    "print(beam._x1)"
   ]
  },
  {
   "cell_type": "code",
   "execution_count": 26,
   "id": "48d26518",
   "metadata": {},
   "outputs": [
    {
     "data": {
      "text/plain": [
       "5"
      ]
     },
     "execution_count": 26,
     "metadata": {},
     "output_type": "execute_result"
    }
   ],
   "source": [
    "beam._x1"
   ]
  },
  {
   "cell_type": "code",
   "execution_count": null,
   "id": "4946f10c",
   "metadata": {},
   "outputs": [],
   "source": []
  }
 ],
 "metadata": {
  "kernelspec": {
   "display_name": "Python 3 (ipykernel)",
   "language": "python",
   "name": "python3"
  },
  "language_info": {
   "codemirror_mode": {
    "name": "ipython",
    "version": 3
   },
   "file_extension": ".py",
   "mimetype": "text/x-python",
   "name": "python",
   "nbconvert_exporter": "python",
   "pygments_lexer": "ipython3",
   "version": "3.9.2"
  }
 },
 "nbformat": 4,
 "nbformat_minor": 5
}
