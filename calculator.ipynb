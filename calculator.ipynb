{
 "cells": [
  {
   "cell_type": "markdown",
   "id": "e895bf5a",
   "metadata": {},
   "source": [
    "# WFCM Calculations"
   ]
  },
  {
   "cell_type": "code",
   "execution_count": 16,
   "id": "0026727f",
   "metadata": {},
   "outputs": [],
   "source": [
    "import os, sys\n",
    "\n",
    "p1 = os.path.abspath('.')\n",
    "sys.path.insert(1, p1)\n",
    "import math_functions as func"
   ]
  },
  {
   "cell_type": "markdown",
   "id": "49cf1d88",
   "metadata": {},
   "source": [
    "#### Rafter Spans"
   ]
  },
  {
   "cell_type": "code",
   "execution_count": 25,
   "id": "40e95700",
   "metadata": {},
   "outputs": [
    {
     "name": "stdout",
     "output_type": "stream",
     "text": [
      "Span at 10 psf dead load = 11.46 ft\n",
      "Span at 20 psf dead load = 9.9 ft\n",
      "Span at 25 psf dead load = 9.11 ft\n"
     ]
    }
   ],
   "source": [
    "# fb = 900 psi\n",
    "DL_needed = 25.0\n",
    "DL = [10.0, 20.0]\n",
    "DL10_fb900_span = func.interpolate(900.0, [800.0, 1000.0], [10.8333, 12.0833])\n",
    "print(f\"Span at 10 psf dead load = {round(DL10_fb900_span, 2)} ft\")\n",
    "DL20_fb900_span = func.interpolate(900.0, [800.0, 1067.0], [9.3333, 10.8333])\n",
    "print(f\"Span at 20 psf dead load = {round(DL20_fb900_span, 2)} ft\")\n",
    "new_span = func.interpolate(DL_needed, DL, [DL10_fb900_span, DL20_fb900_span])\n",
    "print(f\"Span at 25 psf dead load = {round(new_span, 2)} ft\")"
   ]
  },
  {
   "cell_type": "code",
   "execution_count": 26,
   "id": "746e42ae",
   "metadata": {},
   "outputs": [
    {
     "name": "stdout",
     "output_type": "stream",
     "text": [
      "Wind demand span adjustment factor = 1.007\n"
     ]
    }
   ],
   "source": [
    "# Adjustment factors\n",
    "WL = [110, 195]\n",
    "span_factor = [0.95, 0.51]\n",
    "wl_needed = 99.0\n",
    "span_factor_needed = func.interpolate(wl_needed, WL, span_factor)\n",
    "print(f\"Wind demand span adjustment factor = {round(span_factor_needed, 3)}\")"
   ]
  },
  {
   "cell_type": "markdown",
   "id": "344fb73d",
   "metadata": {},
   "source": [
    "#### Hip Beam Spans"
   ]
  },
  {
   "cell_type": "code",
   "execution_count": 27,
   "id": "506f8d4e",
   "metadata": {},
   "outputs": [
    {
     "name": "stdout",
     "output_type": "stream",
     "text": [
      "Required Moment = 848.0 ft-lbs\n",
      "Required Bearing = 300.5 lbs\n"
     ]
    }
   ],
   "source": [
    "horizontal_span = 8.0 #ft\n",
    "required_moment = func.interpolate(DL_needed, DL, [566.0, 754.0])\n",
    "print(f\"Required Moment = {required_moment} ft-lbs\")\n",
    "required_bearing = func.interpolate(DL_needed, DL, [200.0, 267.0])\n",
    "print(f\"Required Bearing = {required_bearing} lbs\")"
   ]
  },
  {
   "cell_type": "code",
   "execution_count": null,
   "id": "358fb9bf",
   "metadata": {},
   "outputs": [],
   "source": []
  }
 ],
 "metadata": {
  "kernelspec": {
   "display_name": "Python 3 (ipykernel)",
   "language": "python",
   "name": "python3"
  },
  "language_info": {
   "codemirror_mode": {
    "name": "ipython",
    "version": 3
   },
   "file_extension": ".py",
   "mimetype": "text/x-python",
   "name": "python",
   "nbconvert_exporter": "python",
   "pygments_lexer": "ipython3",
   "version": "3.9.2"
  }
 },
 "nbformat": 4,
 "nbformat_minor": 5
}
